{
 "cells": [
  {
   "cell_type": "code",
   "execution_count": null,
   "id": "907293da",
   "metadata": {},
   "outputs": [],
   "source": [
    "# 1. Import các thư viện cần thiết\n",
    "import os\n",
    "import torch\n",
    "import torch.nn as nn\n",
    "import torch.optim as optim\n",
    "from torch.utils.data import DataLoader\n",
    "from torchvision import datasets, transforms\n",
    "from tqdm import tqdm  # Hiển thị progress bar khi train/test"
   ]
  },
  {
   "cell_type": "code",
   "execution_count": null,
   "id": "4e3a982f",
   "metadata": {},
   "outputs": [],
   "source": [
    "# 2. Chọn thiết bị (GPU nếu có, CPU nếu không)\n",
    "device = torch.device(\"cuda\" if torch.cuda.is_available() else \"cpu\")\n",
    "print(f\"Using device: {device}\")"
   ]
  },
  {
   "cell_type": "code",
   "execution_count": null,
   "id": "5d89f0a1",
   "metadata": {},
   "outputs": [],
   "source": [
    "# 3. Đường dẫn tới thư mục chứa dữ liệu bạn vừa tải về\n",
    "data_dir = './fruits-fresh-and-rotten-for-classification/dataset'  # chỉnh lại nếu khác"
   ]
  },
  {
   "cell_type": "code",
   "execution_count": null,
   "id": "ba46c0d7",
   "metadata": {},
   "outputs": [],
   "source": [
    "# 4. Định nghĩa transform cho dữ liệu train và test\n",
    "data_transforms = {\n",
    "    'train': transforms.Compose([\n",
    "        transforms.RandomResizedCrop(224, scale=(0.8, 1.0)),  # Cắt ngẫu nhiên và resize về 224x224\n",
    "        transforms.RandomHorizontalFlip(p=0.5),                # Lật ngang ngẫu nhiên\n",
    "        transforms.RandomRotation(degrees=15),                 # Xoay ảnh ±15 độ\n",
    "        transforms.ColorJitter(brightness=0.2, contrast=0.2, saturation=0.2),  # Thay đổi độ sáng, tương phản, màu sắc\n",
    "        transforms.ToTensor(),                                  # Chuyển ảnh sang tensor\n",
    "        transforms.Normalize([0.485, 0.456, 0.406],            # Chuẩn hóa theo mean của ImageNet\n",
    "                             [0.229, 0.224, 0.225])            # Chuẩn hóa theo std của ImageNet\n",
    "    ]),\n",
    "    'test': transforms.Compose([\n",
    "        transforms.Resize((224, 224)),                         # Resize ảnh về 224x224\n",
    "        transforms.ToTensor(),\n",
    "        transforms.Normalize([0.485, 0.456, 0.406],\n",
    "                             [0.229, 0.224, 0.225])\n",
    "    ]),\n",
    "}"
   ]
  },
  {
   "cell_type": "code",
   "execution_count": null,
   "id": "7f65895c",
   "metadata": {},
   "outputs": [],
   "source": [
    "# 5. Tạo dataset cho train và test sử dụng ImageFolder\n",
    "image_datasets = {\n",
    "    x: datasets.ImageFolder(os.path.join(data_dir, x), data_transforms[x])\n",
    "    for x in ['train', 'test']\n",
    "}"
   ]
  },
  {
   "cell_type": "code",
   "execution_count": null,
   "id": "63df5af5",
   "metadata": {},
   "outputs": [],
   "source": [
    "# 6. Tạo DataLoader để load dữ liệu theo batch\n",
    "dataloaders = {\n",
    "    'train': DataLoader(image_datasets['train'], batch_size=64, shuffle=True, num_workers=2),\n",
    "    'test': DataLoader(image_datasets['test'], batch_size=64, shuffle=False, num_workers=2)\n",
    "}"
   ]
  },
  {
   "cell_type": "code",
   "execution_count": null,
   "id": "1cca044e",
   "metadata": {},
   "outputs": [],
   "source": [
    "# 7. Lấy tên các lớp (label)\n",
    "class_names = image_datasets['train'].classes\n",
    "print(\"Classes:\", class_names)\n"
   ]
  },
  {
   "cell_type": "code",
   "execution_count": null,
   "id": "1897f326",
   "metadata": {},
   "outputs": [],
   "source": [
    "# 8. Xây dựng mô hình CNN từ đầu(optional, độ chính xác sẽ thấp hơn)\n",
    "model = nn.Sequential(\n",
    "    # Lớp conv 1: 3 kênh đầu vào (RGB), 64 filter, kernel 3x3\n",
    "    nn.Conv2d(3, 64, kernel_size=3, padding=1),\n",
    "    nn.BatchNorm2d(64),  # Chuẩn hóa batch\n",
    "    nn.ReLU(),           # Hàm kích hoạt ReLU\n",
    "    nn.MaxPool2d(2, 2),  # Giảm kích thước ảnh đi 2 lần\n",
    "\n",
    "    # Lớp conv 2\n",
    "    nn.Conv2d(64, 128, kernel_size=3, padding=1),\n",
    "    nn.BatchNorm2d(128),\n",
    "    nn.ReLU(),\n",
    "    nn.MaxPool2d(2, 2),\n",
    "\n",
    "    # Lớp conv 3\n",
    "    nn.Conv2d(128, 256, kernel_size=3, padding=1),\n",
    "    nn.BatchNorm2d(256),\n",
    "    nn.ReLU(),\n",
    "    nn.MaxPool2d(2, 2),\n",
    "\n",
    "    # Lớp conv 4\n",
    "    nn.Conv2d(256, 512, kernel_size=3, padding=1),\n",
    "    nn.BatchNorm2d(512),\n",
    "    nn.ReLU(),\n",
    "    nn.MaxPool2d(2, 2),\n",
    "\n",
    "    nn.Flatten(),  # Chuyển tensor 4D thành 2D (batch_size, features)\n",
    "\n",
    "    # Fully connected layer 1\n",
    "    nn.Linear(512 * 14 * 14, 512),  # 14x14 là kích thước feature map sau conv+pooling (224/2/2/2/2)\n",
    "    nn.ReLU(),\n",
    "    nn.Dropout(0.3),\n",
    "\n",
    "    # Fully connected layer 2 (output)\n",
    "    nn.Linear(512, len(class_names))  # Số output bằng số lớp\n",
    ")\n",
    "\n",
    "# Chuyển model lên GPU nếu có\n",
    "model = model.to(device)"
   ]
  },
  {
   "cell_type": "code",
   "execution_count": null,
   "id": "fb7321d5",
   "metadata": {},
   "outputs": [],
   "source": [
    "#Sử dụng mô hình pretrained\n",
    "# 6. Load pretrained ResNet18\n",
    "model = models.resnet18(pretrained=True)\n",
    "\n",
    "# 7. Thay thế lớp fully connected cuối cùng cho phù hợp số lớp bài toán\n",
    "num_ftrs = model.fc.in_features\n",
    "model.fc = nn.Linear(num_ftrs, len(class_names))\n",
    "\n",
    "# 8. Chuyển model lên GPU\n",
    "model = model.to(device)"
   ]
  },
  {
   "cell_type": "code",
   "execution_count": null,
   "id": "9225eb58",
   "metadata": {},
   "outputs": [],
   "source": [
    "# 9. Định nghĩa hàm loss và optimizer\n",
    "criterion = nn.CrossEntropyLoss()  # Phù hợp bài toán phân loại đa lớp\n",
    "optimizer = optim.Adam(model.parameters(), lr=1e-3)  # Adam optimizer với learning rate 0.001"
   ]
  },
  {
   "cell_type": "code",
   "execution_count": null,
   "id": "a57cf350",
   "metadata": {},
   "outputs": [],
   "source": [
    "# 10. Hàm đánh giá accuracy trên tập test\n",
    "def evaluate(model, dataloader):\n",
    "    model.eval()  # Chế độ đánh giá\n",
    "    correct = 0\n",
    "    total = 0\n",
    "    with torch.no_grad():  # Tắt tính gradient\n",
    "        for inputs, labels in dataloader:\n",
    "            inputs = inputs.to(device)\n",
    "            labels = labels.to(device)\n",
    "            outputs = model(inputs)\n",
    "            _, preds = torch.max(outputs, 1)  # Lấy nhãn dự đoán\n",
    "            correct += (preds == labels).sum().item()\n",
    "            total += labels.size(0)\n",
    "    acc = correct / total\n",
    "    return acc\n",
    "\n",
    "# 11. Vòng lặp huấn luyện\n",
    "num_epochs = 15\n",
    "for epoch in range(num_epochs):\n",
    "    model.train()  # Chế độ train\n",
    "    running_loss = 0.0\n",
    "    running_corrects = 0\n",
    "    total_samples = 0\n",
    "\n",
    "    for inputs, labels in tqdm(dataloaders['train'], desc=f\"Epoch {epoch+1}/{num_epochs}\"):\n",
    "        inputs = inputs.to(device)\n",
    "        labels = labels.to(device)\n",
    "\n",
    "        optimizer.zero_grad()  # Reset gradient\n",
    "        outputs = model(inputs)  # Forward pass\n",
    "        loss = criterion(outputs, labels)  # Tính loss\n",
    "        loss.backward()  # Backpropagation\n",
    "        optimizer.step()  # Cập nhật trọng số\n",
    "\n",
    "        _, preds = torch.max(outputs, 1)\n",
    "        running_loss += loss.item() * inputs.size(0)\n",
    "        running_corrects += (preds == labels).sum().item()\n",
    "        total_samples += inputs.size(0)\n",
    "\n",
    "    epoch_loss = running_loss / total_samples\n",
    "    epoch_acc = running_corrects / total_samples\n",
    "    val_acc = evaluate(model, dataloaders['test'])\n",
    "\n",
    "    print(f\"Epoch {epoch+1}/{num_epochs} - Loss: {epoch_loss:.4f} - Train Acc: {epoch_acc:.4f} - Val Acc: {val_acc:.4f}\")\n",
    "    "
   ]
  },
  {
   "cell_type": "code",
   "execution_count": null,
   "id": "6e94cb36",
   "metadata": {},
   "outputs": [],
   "source": [
    "#Lưu lại model\n",
    "torch.save(model.state_dict(), '/kaggle/working/fruit_classifier_resnet18.pth')"
   ]
  }
 ],
 "metadata": {
  "kernelspec": {
   "display_name": "Python 3",
   "language": "python",
   "name": "python3"
  },
  "language_info": {
   "codemirror_mode": {
    "name": "ipython",
    "version": 3
   },
   "file_extension": ".py",
   "mimetype": "text/x-python",
   "name": "python",
   "nbconvert_exporter": "python",
   "pygments_lexer": "ipython3",
   "version": "3.10.11"
  }
 },
 "nbformat": 4,
 "nbformat_minor": 5
}
